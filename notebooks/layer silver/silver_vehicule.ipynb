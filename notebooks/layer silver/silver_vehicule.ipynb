{
 "cells": [
  {
   "cell_type": "code",
   "execution_count": 2,
   "id": "51f97306",
   "metadata": {},
   "outputs": [],
   "source": [
    "%run ../functions_scripts/database_functions.ipynb\n",
    "%run ../functions_scripts/dataframe_cleaning_functions.ipynb"
   ]
  },
  {
   "cell_type": "code",
   "execution_count": 3,
   "id": "84b52591",
   "metadata": {},
   "outputs": [],
   "source": [
    "\n",
    "from pathlib import Path\n",
    "from typing import List, Optional\n",
    "from sqlalchemy import create_engine\n",
    "from sqlalchemy.engine import Engine\n",
    "from sqlalchemy import text\n",
    "from psycopg2.extras import execute_values\n",
    "from sqlalchemy_utils import database_exists, create_database\n",
    "import pandas as pd\n",
    "\n",
    "import os\n",
    "from dotenv import load_dotenv\n",
    "\n",
    "load_dotenv()\n",
    "\n",
    "RAW_DIR = Path(os.getenv(\"RAW_DIR\"))\n",
    "CLEAN_DIR = Path(os.getenv(\"CLEAN_DIR\"))\n",
    "ADMIN_DB_URL = os.getenv(\"ADMIN_DB_URL\")\n",
    "DB_URL = os.getenv(\"DB_URL\")\n",
    "\n"
   ]
  },
  {
   "cell_type": "markdown",
   "id": "0fb46863",
   "metadata": {},
   "source": [
    "# 🧹 Nettoyage de la table Véhicule \n"
   ]
  },
  {
   "cell_type": "code",
   "execution_count": 4,
   "id": "77320872",
   "metadata": {},
   "outputs": [],
   "source": [
    "# Etablir connection avec la base de données\n",
    "engine = get_engine(DB_URL) "
   ]
  },
  {
   "cell_type": "code",
   "execution_count": 5,
   "id": "3ec67538",
   "metadata": {},
   "outputs": [
    {
     "data": {
      "application/vnd.microsoft.datawrangler.viewer.v0+json": {
       "columns": [
        {
         "name": "index",
         "rawType": "int64",
         "type": "integer"
        },
        {
         "name": "identifiant_de_l_accident",
         "rawType": "object",
         "type": "string"
        },
        {
         "name": "identifiant_vehicule",
         "rawType": "object",
         "type": "string"
        },
        {
         "name": "sens",
         "rawType": "object",
         "type": "unknown"
        },
        {
         "name": "categorie_vehicule",
         "rawType": "object",
         "type": "string"
        },
        {
         "name": "obstacle_fixe_heurte",
         "rawType": "object",
         "type": "unknown"
        },
        {
         "name": "obstacle_mobile_heurte",
         "rawType": "object",
         "type": "string"
        },
        {
         "name": "point_de_choc",
         "rawType": "object",
         "type": "string"
        },
        {
         "name": "manoeuvre",
         "rawType": "object",
         "type": "string"
        },
        {
         "name": "nombre_d_occupants",
         "rawType": "object",
         "type": "unknown"
        }
       ],
       "ref": "bbba3109-333d-44dc-b055-fec00ef949ee",
       "rows": [
        [
         "0",
         "201700033619",
         "B01,A01",
         null,
         "VL seul,VL seul",
         null,
         "Véhicule,Véhicule",
         "Arrière,Avant",
         "Sans changement de direction",
         null
        ],
        [
         "1",
         "201700048262",
         "A01,E01,C01,B01,D01",
         "PK ou PR ou numéro d’adresse postale croissant,PK ou PR ou numéro d’adresse postale croissant,PK ou PR ou numéro d’adresse postale croissant,PK ou PR ou numéro d’adresse postale croissant,PK ou PR ou numéro d’adresse postale croissant",
         "VL seul,VL seul,VL seul,VL seul,VL seul",
         null,
         "Véhicule,Véhicule,Véhicule,Véhicule,Véhicule",
         "Avant droit,Arrière,Côté gauche,Arrière droit,Arrière",
         "Manœuvre d’évitement,Arrêté (hors stationnement),Arrêté (hors stationnement),Arrêté (hors stationnement),Même sens",
         null
        ],
        [
         "2",
         "201700048288",
         "D01,B01,A01,C01",
         "PK ou PR ou numéro d’adresse postale décroissant,PK ou PR ou numéro d’adresse postale décroissant,PK ou PR ou numéro d’adresse postale décroissant,PK ou PR ou numéro d’adresse postale décroissant",
         "VL seul,VL seul,VL seul,VL seul",
         null,
         "Véhicule,Véhicule,Véhicule,Véhicule",
         "Arrière,Avant,Avant,Arrière",
         "Même sens,Même sens,Même sens,Même sens",
         null
        ],
        [
         "3",
         "201700048486",
         "A01,B01",
         "PK ou PR ou numéro d’adresse postale croissant,PK ou PR ou numéro d’adresse postale croissant",
         "VL seul,VL seul",
         null,
         "Véhicule,Véhicule",
         "Avant gauche,Côté gauche",
         "Changeant de file A gauche,Déporté A gauche",
         null
        ],
        [
         "4",
         "201700048639",
         "Z01,A01",
         "PK ou PR ou numéro d’adresse postale décroissant,PK ou PR ou numéro d’adresse postale décroissant",
         "VL seul,Motocyclette > 125 cm3",
         null,
         "Véhicule,Véhicule",
         "Avant droit",
         "Sans changement de direction",
         null
        ]
       ],
       "shape": {
        "columns": 9,
        "rows": 5
       }
      },
      "text/html": [
       "<div>\n",
       "<style scoped>\n",
       "    .dataframe tbody tr th:only-of-type {\n",
       "        vertical-align: middle;\n",
       "    }\n",
       "\n",
       "    .dataframe tbody tr th {\n",
       "        vertical-align: top;\n",
       "    }\n",
       "\n",
       "    .dataframe thead th {\n",
       "        text-align: right;\n",
       "    }\n",
       "</style>\n",
       "<table border=\"1\" class=\"dataframe\">\n",
       "  <thead>\n",
       "    <tr style=\"text-align: right;\">\n",
       "      <th></th>\n",
       "      <th>identifiant_de_l_accident</th>\n",
       "      <th>identifiant_vehicule</th>\n",
       "      <th>sens</th>\n",
       "      <th>categorie_vehicule</th>\n",
       "      <th>obstacle_fixe_heurte</th>\n",
       "      <th>obstacle_mobile_heurte</th>\n",
       "      <th>point_de_choc</th>\n",
       "      <th>manoeuvre</th>\n",
       "      <th>nombre_d_occupants</th>\n",
       "    </tr>\n",
       "  </thead>\n",
       "  <tbody>\n",
       "    <tr>\n",
       "      <th>0</th>\n",
       "      <td>201700033619</td>\n",
       "      <td>B01,A01</td>\n",
       "      <td>None</td>\n",
       "      <td>VL seul,VL seul</td>\n",
       "      <td>None</td>\n",
       "      <td>Véhicule,Véhicule</td>\n",
       "      <td>Arrière,Avant</td>\n",
       "      <td>Sans changement de direction</td>\n",
       "      <td>None</td>\n",
       "    </tr>\n",
       "    <tr>\n",
       "      <th>1</th>\n",
       "      <td>201700048262</td>\n",
       "      <td>A01,E01,C01,B01,D01</td>\n",
       "      <td>PK ou PR ou numéro d’adresse postale croissant...</td>\n",
       "      <td>VL seul,VL seul,VL seul,VL seul,VL seul</td>\n",
       "      <td>None</td>\n",
       "      <td>Véhicule,Véhicule,Véhicule,Véhicule,Véhicule</td>\n",
       "      <td>Avant droit,Arrière,Côté gauche,Arrière droit,...</td>\n",
       "      <td>Manœuvre d’évitement,Arrêté (hors stationnemen...</td>\n",
       "      <td>None</td>\n",
       "    </tr>\n",
       "    <tr>\n",
       "      <th>2</th>\n",
       "      <td>201700048288</td>\n",
       "      <td>D01,B01,A01,C01</td>\n",
       "      <td>PK ou PR ou numéro d’adresse postale décroissa...</td>\n",
       "      <td>VL seul,VL seul,VL seul,VL seul</td>\n",
       "      <td>None</td>\n",
       "      <td>Véhicule,Véhicule,Véhicule,Véhicule</td>\n",
       "      <td>Arrière,Avant,Avant,Arrière</td>\n",
       "      <td>Même sens,Même sens,Même sens,Même sens</td>\n",
       "      <td>None</td>\n",
       "    </tr>\n",
       "    <tr>\n",
       "      <th>3</th>\n",
       "      <td>201700048486</td>\n",
       "      <td>A01,B01</td>\n",
       "      <td>PK ou PR ou numéro d’adresse postale croissant...</td>\n",
       "      <td>VL seul,VL seul</td>\n",
       "      <td>None</td>\n",
       "      <td>Véhicule,Véhicule</td>\n",
       "      <td>Avant gauche,Côté gauche</td>\n",
       "      <td>Changeant de file A gauche,Déporté A gauche</td>\n",
       "      <td>None</td>\n",
       "    </tr>\n",
       "    <tr>\n",
       "      <th>4</th>\n",
       "      <td>201700048639</td>\n",
       "      <td>Z01,A01</td>\n",
       "      <td>PK ou PR ou numéro d’adresse postale décroissa...</td>\n",
       "      <td>VL seul,Motocyclette &gt; 125 cm3</td>\n",
       "      <td>None</td>\n",
       "      <td>Véhicule,Véhicule</td>\n",
       "      <td>Avant droit</td>\n",
       "      <td>Sans changement de direction</td>\n",
       "      <td>None</td>\n",
       "    </tr>\n",
       "  </tbody>\n",
       "</table>\n",
       "</div>"
      ],
      "text/plain": [
       "  identifiant_de_l_accident identifiant_vehicule  \\\n",
       "0              201700033619              B01,A01   \n",
       "1              201700048262  A01,E01,C01,B01,D01   \n",
       "2              201700048288      D01,B01,A01,C01   \n",
       "3              201700048486              A01,B01   \n",
       "4              201700048639              Z01,A01   \n",
       "\n",
       "                                                sens  \\\n",
       "0                                               None   \n",
       "1  PK ou PR ou numéro d’adresse postale croissant...   \n",
       "2  PK ou PR ou numéro d’adresse postale décroissa...   \n",
       "3  PK ou PR ou numéro d’adresse postale croissant...   \n",
       "4  PK ou PR ou numéro d’adresse postale décroissa...   \n",
       "\n",
       "                        categorie_vehicule obstacle_fixe_heurte  \\\n",
       "0                          VL seul,VL seul                 None   \n",
       "1  VL seul,VL seul,VL seul,VL seul,VL seul                 None   \n",
       "2          VL seul,VL seul,VL seul,VL seul                 None   \n",
       "3                          VL seul,VL seul                 None   \n",
       "4           VL seul,Motocyclette > 125 cm3                 None   \n",
       "\n",
       "                         obstacle_mobile_heurte  \\\n",
       "0                             Véhicule,Véhicule   \n",
       "1  Véhicule,Véhicule,Véhicule,Véhicule,Véhicule   \n",
       "2           Véhicule,Véhicule,Véhicule,Véhicule   \n",
       "3                             Véhicule,Véhicule   \n",
       "4                             Véhicule,Véhicule   \n",
       "\n",
       "                                       point_de_choc  \\\n",
       "0                                      Arrière,Avant   \n",
       "1  Avant droit,Arrière,Côté gauche,Arrière droit,...   \n",
       "2                        Arrière,Avant,Avant,Arrière   \n",
       "3                           Avant gauche,Côté gauche   \n",
       "4                                        Avant droit   \n",
       "\n",
       "                                           manoeuvre nombre_d_occupants  \n",
       "0                       Sans changement de direction               None  \n",
       "1  Manœuvre d’évitement,Arrêté (hors stationnemen...               None  \n",
       "2            Même sens,Même sens,Même sens,Même sens               None  \n",
       "3        Changeant de file A gauche,Déporté A gauche               None  \n",
       "4                       Sans changement de direction               None  "
      ]
     },
     "execution_count": 5,
     "metadata": {},
     "output_type": "execute_result"
    }
   ],
   "source": [
    "df_vehicles = get_df_from_table(engine, \"bronze\", \"vehicules_raw\")\n",
    "df_vehicles.head()"
   ]
  },
  {
   "cell_type": "markdown",
   "id": "a6af584a",
   "metadata": {},
   "source": [
    "# 🧹 Nettoyage de la table vehicule "
   ]
  },
  {
   "cell_type": "code",
   "execution_count": 6,
   "id": "dda08bc9",
   "metadata": {},
   "outputs": [
    {
     "name": "stdout",
     "output_type": "stream",
     "text": [
      "Nombre de lignes avant suppression des doublons : 1427733\n",
      "Nombre de lignes après suppression des doublons : 475911\n"
     ]
    },
    {
     "data": {
      "application/vnd.microsoft.datawrangler.viewer.v0+json": {
       "columns": [
        {
         "name": "index",
         "rawType": "int64",
         "type": "integer"
        },
        {
         "name": "identifiant_de_l_accident",
         "rawType": "object",
         "type": "string"
        },
        {
         "name": "identifiant_vehicule",
         "rawType": "object",
         "type": "string"
        },
        {
         "name": "sens",
         "rawType": "object",
         "type": "unknown"
        },
        {
         "name": "categorie_vehicule",
         "rawType": "object",
         "type": "string"
        },
        {
         "name": "obstacle_fixe_heurte",
         "rawType": "object",
         "type": "unknown"
        },
        {
         "name": "obstacle_mobile_heurte",
         "rawType": "object",
         "type": "string"
        },
        {
         "name": "point_de_choc",
         "rawType": "object",
         "type": "string"
        },
        {
         "name": "manoeuvre",
         "rawType": "object",
         "type": "string"
        },
        {
         "name": "nombre_d_occupants",
         "rawType": "object",
         "type": "unknown"
        }
       ],
       "ref": "1e1a7e80-5c6f-4d5b-b097-40a58b6f2d60",
       "rows": [
        [
         "0",
         "201700033619",
         "B01,A01",
         null,
         "VL seul,VL seul",
         null,
         "Véhicule,Véhicule",
         "Arrière,Avant",
         "Sans changement de direction",
         null
        ],
        [
         "1",
         "201700048262",
         "A01,E01,C01,B01,D01",
         "PK ou PR ou numéro d’adresse postale croissant,PK ou PR ou numéro d’adresse postale croissant,PK ou PR ou numéro d’adresse postale croissant,PK ou PR ou numéro d’adresse postale croissant,PK ou PR ou numéro d’adresse postale croissant",
         "VL seul,VL seul,VL seul,VL seul,VL seul",
         null,
         "Véhicule,Véhicule,Véhicule,Véhicule,Véhicule",
         "Avant droit,Arrière,Côté gauche,Arrière droit,Arrière",
         "Manœuvre d’évitement,Arrêté (hors stationnement),Arrêté (hors stationnement),Arrêté (hors stationnement),Même sens",
         null
        ],
        [
         "2",
         "201700048288",
         "D01,B01,A01,C01",
         "PK ou PR ou numéro d’adresse postale décroissant,PK ou PR ou numéro d’adresse postale décroissant,PK ou PR ou numéro d’adresse postale décroissant,PK ou PR ou numéro d’adresse postale décroissant",
         "VL seul,VL seul,VL seul,VL seul",
         null,
         "Véhicule,Véhicule,Véhicule,Véhicule",
         "Arrière,Avant,Avant,Arrière",
         "Même sens,Même sens,Même sens,Même sens",
         null
        ],
        [
         "3",
         "201700048486",
         "A01,B01",
         "PK ou PR ou numéro d’adresse postale croissant,PK ou PR ou numéro d’adresse postale croissant",
         "VL seul,VL seul",
         null,
         "Véhicule,Véhicule",
         "Avant gauche,Côté gauche",
         "Changeant de file A gauche,Déporté A gauche",
         null
        ],
        [
         "4",
         "201700048639",
         "Z01,A01",
         "PK ou PR ou numéro d’adresse postale décroissant,PK ou PR ou numéro d’adresse postale décroissant",
         "VL seul,Motocyclette > 125 cm3",
         null,
         "Véhicule,Véhicule",
         "Avant droit",
         "Sans changement de direction",
         null
        ]
       ],
       "shape": {
        "columns": 9,
        "rows": 5
       }
      },
      "text/html": [
       "<div>\n",
       "<style scoped>\n",
       "    .dataframe tbody tr th:only-of-type {\n",
       "        vertical-align: middle;\n",
       "    }\n",
       "\n",
       "    .dataframe tbody tr th {\n",
       "        vertical-align: top;\n",
       "    }\n",
       "\n",
       "    .dataframe thead th {\n",
       "        text-align: right;\n",
       "    }\n",
       "</style>\n",
       "<table border=\"1\" class=\"dataframe\">\n",
       "  <thead>\n",
       "    <tr style=\"text-align: right;\">\n",
       "      <th></th>\n",
       "      <th>identifiant_de_l_accident</th>\n",
       "      <th>identifiant_vehicule</th>\n",
       "      <th>sens</th>\n",
       "      <th>categorie_vehicule</th>\n",
       "      <th>obstacle_fixe_heurte</th>\n",
       "      <th>obstacle_mobile_heurte</th>\n",
       "      <th>point_de_choc</th>\n",
       "      <th>manoeuvre</th>\n",
       "      <th>nombre_d_occupants</th>\n",
       "    </tr>\n",
       "  </thead>\n",
       "  <tbody>\n",
       "    <tr>\n",
       "      <th>0</th>\n",
       "      <td>201700033619</td>\n",
       "      <td>B01,A01</td>\n",
       "      <td>None</td>\n",
       "      <td>VL seul,VL seul</td>\n",
       "      <td>None</td>\n",
       "      <td>Véhicule,Véhicule</td>\n",
       "      <td>Arrière,Avant</td>\n",
       "      <td>Sans changement de direction</td>\n",
       "      <td>None</td>\n",
       "    </tr>\n",
       "    <tr>\n",
       "      <th>1</th>\n",
       "      <td>201700048262</td>\n",
       "      <td>A01,E01,C01,B01,D01</td>\n",
       "      <td>PK ou PR ou numéro d’adresse postale croissant...</td>\n",
       "      <td>VL seul,VL seul,VL seul,VL seul,VL seul</td>\n",
       "      <td>None</td>\n",
       "      <td>Véhicule,Véhicule,Véhicule,Véhicule,Véhicule</td>\n",
       "      <td>Avant droit,Arrière,Côté gauche,Arrière droit,...</td>\n",
       "      <td>Manœuvre d’évitement,Arrêté (hors stationnemen...</td>\n",
       "      <td>None</td>\n",
       "    </tr>\n",
       "    <tr>\n",
       "      <th>2</th>\n",
       "      <td>201700048288</td>\n",
       "      <td>D01,B01,A01,C01</td>\n",
       "      <td>PK ou PR ou numéro d’adresse postale décroissa...</td>\n",
       "      <td>VL seul,VL seul,VL seul,VL seul</td>\n",
       "      <td>None</td>\n",
       "      <td>Véhicule,Véhicule,Véhicule,Véhicule</td>\n",
       "      <td>Arrière,Avant,Avant,Arrière</td>\n",
       "      <td>Même sens,Même sens,Même sens,Même sens</td>\n",
       "      <td>None</td>\n",
       "    </tr>\n",
       "    <tr>\n",
       "      <th>3</th>\n",
       "      <td>201700048486</td>\n",
       "      <td>A01,B01</td>\n",
       "      <td>PK ou PR ou numéro d’adresse postale croissant...</td>\n",
       "      <td>VL seul,VL seul</td>\n",
       "      <td>None</td>\n",
       "      <td>Véhicule,Véhicule</td>\n",
       "      <td>Avant gauche,Côté gauche</td>\n",
       "      <td>Changeant de file A gauche,Déporté A gauche</td>\n",
       "      <td>None</td>\n",
       "    </tr>\n",
       "    <tr>\n",
       "      <th>4</th>\n",
       "      <td>201700048639</td>\n",
       "      <td>Z01,A01</td>\n",
       "      <td>PK ou PR ou numéro d’adresse postale décroissa...</td>\n",
       "      <td>VL seul,Motocyclette &gt; 125 cm3</td>\n",
       "      <td>None</td>\n",
       "      <td>Véhicule,Véhicule</td>\n",
       "      <td>Avant droit</td>\n",
       "      <td>Sans changement de direction</td>\n",
       "      <td>None</td>\n",
       "    </tr>\n",
       "  </tbody>\n",
       "</table>\n",
       "</div>"
      ],
      "text/plain": [
       "  identifiant_de_l_accident identifiant_vehicule  \\\n",
       "0              201700033619              B01,A01   \n",
       "1              201700048262  A01,E01,C01,B01,D01   \n",
       "2              201700048288      D01,B01,A01,C01   \n",
       "3              201700048486              A01,B01   \n",
       "4              201700048639              Z01,A01   \n",
       "\n",
       "                                                sens  \\\n",
       "0                                               None   \n",
       "1  PK ou PR ou numéro d’adresse postale croissant...   \n",
       "2  PK ou PR ou numéro d’adresse postale décroissa...   \n",
       "3  PK ou PR ou numéro d’adresse postale croissant...   \n",
       "4  PK ou PR ou numéro d’adresse postale décroissa...   \n",
       "\n",
       "                        categorie_vehicule obstacle_fixe_heurte  \\\n",
       "0                          VL seul,VL seul                 None   \n",
       "1  VL seul,VL seul,VL seul,VL seul,VL seul                 None   \n",
       "2          VL seul,VL seul,VL seul,VL seul                 None   \n",
       "3                          VL seul,VL seul                 None   \n",
       "4           VL seul,Motocyclette > 125 cm3                 None   \n",
       "\n",
       "                         obstacle_mobile_heurte  \\\n",
       "0                             Véhicule,Véhicule   \n",
       "1  Véhicule,Véhicule,Véhicule,Véhicule,Véhicule   \n",
       "2           Véhicule,Véhicule,Véhicule,Véhicule   \n",
       "3                             Véhicule,Véhicule   \n",
       "4                             Véhicule,Véhicule   \n",
       "\n",
       "                                       point_de_choc  \\\n",
       "0                                      Arrière,Avant   \n",
       "1  Avant droit,Arrière,Côté gauche,Arrière droit,...   \n",
       "2                        Arrière,Avant,Avant,Arrière   \n",
       "3                           Avant gauche,Côté gauche   \n",
       "4                                        Avant droit   \n",
       "\n",
       "                                           manoeuvre nombre_d_occupants  \n",
       "0                       Sans changement de direction               None  \n",
       "1  Manœuvre d’évitement,Arrêté (hors stationnemen...               None  \n",
       "2            Même sens,Même sens,Même sens,Même sens               None  \n",
       "3        Changeant de file A gauche,Déporté A gauche               None  \n",
       "4                       Sans changement de direction               None  "
      ]
     },
     "execution_count": 6,
     "metadata": {},
     "output_type": "execute_result"
    }
   ],
   "source": [
    "# Supprimer les doublons\n",
    "print(f\"Nombre de lignes avant suppression des doublons : {df_vehicles.shape[0]}\")\n",
    "df_vehicles = df_vehicles.drop_duplicates()\n",
    "print(f\"Nombre de lignes après suppression des doublons : {df_vehicles.shape[0]}\")\n",
    "#remplacer les valeurs nulles\n",
    "remplacer_valeurs_nulles(df_vehicles)\n",
    "#Nettoyage sémantique\n",
    "#Traiter valeurs spéciales (-1, 00, NULL chaîne).\n",
    "df_vehicles =  traiter_valeurs_speciales(df_vehicles)\n",
    "df_vehicles.head()"
   ]
  },
  {
   "cell_type": "code",
   "execution_count": 7,
   "id": "0d53f3b9",
   "metadata": {},
   "outputs": [
    {
     "name": "stderr",
     "output_type": "stream",
     "text": [
      "INFO:__main__:Toutes les connexions à 'db_accident' ont été fermées (sauf la session actuelle).\n",
      "INFO:__main__:Engine SQLAlchemy libéré — plus aucune connexion active.\n"
     ]
    },
    {
     "name": "stdout",
     "output_type": "stream",
     "text": [
      "(3693, 'postgres', 'db_accident', 'idle', 'ROLLBACK')\n"
     ]
    }
   ],
   "source": [
    "#Fermeture des connexions actives à la base de données\n",
    "admin_engine = get_engine(ADMIN_DB_URL)\n",
    "show_open_connections(admin_engine, DB_NAME)\n",
    "close_all_connections(admin_engine, DB_NAME)\n",
    "show_open_connections(admin_engine, DB_NAME)\n"
   ]
  }
 ],
 "metadata": {
  "kernelspec": {
   "display_name": ".venv (3.12.3)",
   "language": "python",
   "name": "python3"
  },
  "language_info": {
   "codemirror_mode": {
    "name": "ipython",
    "version": 3
   },
   "file_extension": ".py",
   "mimetype": "text/x-python",
   "name": "python",
   "nbconvert_exporter": "python",
   "pygments_lexer": "ipython3",
   "version": "3.12.3"
  }
 },
 "nbformat": 4,
 "nbformat_minor": 5
}
