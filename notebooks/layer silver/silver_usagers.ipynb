{
 "cells": [
  {
   "cell_type": "code",
   "execution_count": 2,
   "id": "51f97306",
   "metadata": {},
   "outputs": [],
   "source": [
    "%run ../functions_scripts/database_functions.ipynb\n",
    "%run ../functions_scripts/dataframe_cleaning_functions.ipynb"
   ]
  },
  {
   "cell_type": "code",
   "execution_count": 3,
   "id": "84b52591",
   "metadata": {},
   "outputs": [],
   "source": [
    "\n",
    "from pathlib import Path\n",
    "from typing import List, Optional\n",
    "from sqlalchemy import create_engine\n",
    "from sqlalchemy.engine import Engine\n",
    "from sqlalchemy import text\n",
    "from psycopg2.extras import execute_values\n",
    "from sqlalchemy_utils import database_exists, create_database\n",
    "import pandas as pd\n",
    "\n",
    "import os\n",
    "from dotenv import load_dotenv\n",
    "\n",
    "load_dotenv()\n",
    "\n",
    "RAW_DIR = Path(os.getenv(\"RAW_DIR\"))\n",
    "CLEAN_DIR = Path(os.getenv(\"CLEAN_DIR\"))\n",
    "ADMIN_DB_URL = os.getenv(\"ADMIN_DB_URL\")\n",
    "DB_URL = os.getenv(\"DB_URL\")\n",
    "\n"
   ]
  },
  {
   "cell_type": "markdown",
   "id": "f92fc278",
   "metadata": {},
   "source": [
    "# 🧹 Nettoyage de la table usagers \n"
   ]
  },
  {
   "cell_type": "code",
   "execution_count": 4,
   "id": "e079f4fd",
   "metadata": {},
   "outputs": [],
   "source": [
    "# Etablir connection avec la base de données\n",
    "engine = get_engine(DB_URL) "
   ]
  },
  {
   "cell_type": "code",
   "execution_count": 5,
   "id": "848b424a",
   "metadata": {},
   "outputs": [
    {
     "data": {
      "application/vnd.microsoft.datawrangler.viewer.v0+json": {
       "columns": [
        {
         "name": "index",
         "rawType": "int64",
         "type": "integer"
        },
        {
         "name": "identifiant_de_l_accident",
         "rawType": "object",
         "type": "string"
        },
        {
         "name": "identifiant_vehicule",
         "rawType": "object",
         "type": "string"
        },
        {
         "name": "place",
         "rawType": "object",
         "type": "string"
        },
        {
         "name": "categorie_d_usager",
         "rawType": "object",
         "type": "string"
        },
        {
         "name": "gravite",
         "rawType": "object",
         "type": "string"
        },
        {
         "name": "sexe",
         "rawType": "object",
         "type": "string"
        },
        {
         "name": "annee_de_naissance",
         "rawType": "object",
         "type": "string"
        },
        {
         "name": "motif_trajet",
         "rawType": "object",
         "type": "unknown"
        },
        {
         "name": "existence_equipement_de_securite",
         "rawType": "object",
         "type": "string"
        },
        {
         "name": "utilisation_equipement_de_securite",
         "rawType": "object",
         "type": "string"
        },
        {
         "name": "localisation_du_pieton",
         "rawType": "object",
         "type": "unknown"
        },
        {
         "name": "action_pieton",
         "rawType": "object",
         "type": "string"
        },
        {
         "name": "pieton_seul_ou_non",
         "rawType": "object",
         "type": "unknown"
        }
       ],
       "ref": "5596c6b1-59ab-44f7-9aef-d64acdf86002",
       "rows": [
        [
         "0",
         "201700033619",
         "B01,A01",
         "1,1,2,2",
         "Conducteur,Conducteur,Passager,Passager",
         "Blessé,Blessé,Blessé,Blessé",
         "Masculin,Masculin,Masculin,Masculin",
         "1996,1939,1996,1931",
         "Promenade – loisirs,Promenade – loisirs,Promenade – loisirs",
         "Ceinture,Ceinture,Ceinture,Ceinture",
         "Oui,Oui,Oui,Oui",
         null,
         "Se déplaçant,Se déplaçant,Se déplaçant,Se déplaçant",
         null
        ],
        [
         "1",
         "201700048262",
         "A01,E01,C01,B01,D01",
         "1,1,1,1,1",
         "Conducteur,Conducteur,Conducteur,Conducteur,Conducteur",
         "Indemne,Indemne,Blessé,Indemne,Indemne",
         "Masculin,Masculin,Féminin,Féminin,Masculin",
         "1952,1934,1979,1986,1978",
         null,
         "Ceinture,Ceinture,Ceinture,Ceinture,Ceinture",
         "Oui,Oui,Oui,Oui,Oui",
         null,
         "Se déplaçant,Se déplaçant,Se déplaçant,Se déplaçant,Se déplaçant",
         null
        ],
        [
         "2",
         "201700048288",
         "D01,B01,A01,C01",
         "1,1,1,2,1",
         "Conducteur,Conducteur,Conducteur,Passager,Conducteur",
         "Indemne,Indemne,Indemne,Blessé,Indemne",
         "Masculin,Masculin,Masculin,Masculin,Masculin",
         "1982,1978,1990,2004,1978",
         null,
         "Ceinture,Ceinture,Ceinture,Ceinture,Ceinture",
         "Oui,Oui,Oui,Oui,Oui",
         null,
         "Se déplaçant,Se déplaçant,Se déplaçant,Se déplaçant,Se déplaçant",
         null
        ],
        [
         "3",
         "201700048486",
         "A01,B01",
         "1,1,2",
         "Conducteur,Conducteur,Passager",
         "Blessé,Indemne,Blessé",
         "Masculin,Masculin,Masculin",
         "1992,1990,1992",
         "Autre",
         "Ceinture,Ceinture,Ceinture",
         "Oui,Oui,Oui",
         null,
         "Se déplaçant,Se déplaçant,Se déplaçant",
         null
        ],
        [
         "4",
         "201700048639",
         "Z01,A01",
         "1,1",
         "Conducteur,Conducteur",
         "Indemne,Blessé",
         "Masculin,Masculin",
         "1992,1960",
         "Domicile – travail,Domicile – travail",
         "Ceinture,Casque",
         "Oui,Oui",
         null,
         "Se déplaçant,Se déplaçant",
         null
        ]
       ],
       "shape": {
        "columns": 13,
        "rows": 5
       }
      },
      "text/html": [
       "<div>\n",
       "<style scoped>\n",
       "    .dataframe tbody tr th:only-of-type {\n",
       "        vertical-align: middle;\n",
       "    }\n",
       "\n",
       "    .dataframe tbody tr th {\n",
       "        vertical-align: top;\n",
       "    }\n",
       "\n",
       "    .dataframe thead th {\n",
       "        text-align: right;\n",
       "    }\n",
       "</style>\n",
       "<table border=\"1\" class=\"dataframe\">\n",
       "  <thead>\n",
       "    <tr style=\"text-align: right;\">\n",
       "      <th></th>\n",
       "      <th>identifiant_de_l_accident</th>\n",
       "      <th>identifiant_vehicule</th>\n",
       "      <th>place</th>\n",
       "      <th>categorie_d_usager</th>\n",
       "      <th>gravite</th>\n",
       "      <th>sexe</th>\n",
       "      <th>annee_de_naissance</th>\n",
       "      <th>motif_trajet</th>\n",
       "      <th>existence_equipement_de_securite</th>\n",
       "      <th>utilisation_equipement_de_securite</th>\n",
       "      <th>localisation_du_pieton</th>\n",
       "      <th>action_pieton</th>\n",
       "      <th>pieton_seul_ou_non</th>\n",
       "    </tr>\n",
       "  </thead>\n",
       "  <tbody>\n",
       "    <tr>\n",
       "      <th>0</th>\n",
       "      <td>201700033619</td>\n",
       "      <td>B01,A01</td>\n",
       "      <td>1,1,2,2</td>\n",
       "      <td>Conducteur,Conducteur,Passager,Passager</td>\n",
       "      <td>Blessé,Blessé,Blessé,Blessé</td>\n",
       "      <td>Masculin,Masculin,Masculin,Masculin</td>\n",
       "      <td>1996,1939,1996,1931</td>\n",
       "      <td>Promenade – loisirs,Promenade – loisirs,Promen...</td>\n",
       "      <td>Ceinture,Ceinture,Ceinture,Ceinture</td>\n",
       "      <td>Oui,Oui,Oui,Oui</td>\n",
       "      <td>None</td>\n",
       "      <td>Se déplaçant,Se déplaçant,Se déplaçant,Se dépl...</td>\n",
       "      <td>None</td>\n",
       "    </tr>\n",
       "    <tr>\n",
       "      <th>1</th>\n",
       "      <td>201700048262</td>\n",
       "      <td>A01,E01,C01,B01,D01</td>\n",
       "      <td>1,1,1,1,1</td>\n",
       "      <td>Conducteur,Conducteur,Conducteur,Conducteur,Co...</td>\n",
       "      <td>Indemne,Indemne,Blessé,Indemne,Indemne</td>\n",
       "      <td>Masculin,Masculin,Féminin,Féminin,Masculin</td>\n",
       "      <td>1952,1934,1979,1986,1978</td>\n",
       "      <td>None</td>\n",
       "      <td>Ceinture,Ceinture,Ceinture,Ceinture,Ceinture</td>\n",
       "      <td>Oui,Oui,Oui,Oui,Oui</td>\n",
       "      <td>None</td>\n",
       "      <td>Se déplaçant,Se déplaçant,Se déplaçant,Se dépl...</td>\n",
       "      <td>None</td>\n",
       "    </tr>\n",
       "    <tr>\n",
       "      <th>2</th>\n",
       "      <td>201700048288</td>\n",
       "      <td>D01,B01,A01,C01</td>\n",
       "      <td>1,1,1,2,1</td>\n",
       "      <td>Conducteur,Conducteur,Conducteur,Passager,Cond...</td>\n",
       "      <td>Indemne,Indemne,Indemne,Blessé,Indemne</td>\n",
       "      <td>Masculin,Masculin,Masculin,Masculin,Masculin</td>\n",
       "      <td>1982,1978,1990,2004,1978</td>\n",
       "      <td>None</td>\n",
       "      <td>Ceinture,Ceinture,Ceinture,Ceinture,Ceinture</td>\n",
       "      <td>Oui,Oui,Oui,Oui,Oui</td>\n",
       "      <td>None</td>\n",
       "      <td>Se déplaçant,Se déplaçant,Se déplaçant,Se dépl...</td>\n",
       "      <td>None</td>\n",
       "    </tr>\n",
       "    <tr>\n",
       "      <th>3</th>\n",
       "      <td>201700048486</td>\n",
       "      <td>A01,B01</td>\n",
       "      <td>1,1,2</td>\n",
       "      <td>Conducteur,Conducteur,Passager</td>\n",
       "      <td>Blessé,Indemne,Blessé</td>\n",
       "      <td>Masculin,Masculin,Masculin</td>\n",
       "      <td>1992,1990,1992</td>\n",
       "      <td>Autre</td>\n",
       "      <td>Ceinture,Ceinture,Ceinture</td>\n",
       "      <td>Oui,Oui,Oui</td>\n",
       "      <td>None</td>\n",
       "      <td>Se déplaçant,Se déplaçant,Se déplaçant</td>\n",
       "      <td>None</td>\n",
       "    </tr>\n",
       "    <tr>\n",
       "      <th>4</th>\n",
       "      <td>201700048639</td>\n",
       "      <td>Z01,A01</td>\n",
       "      <td>1,1</td>\n",
       "      <td>Conducteur,Conducteur</td>\n",
       "      <td>Indemne,Blessé</td>\n",
       "      <td>Masculin,Masculin</td>\n",
       "      <td>1992,1960</td>\n",
       "      <td>Domicile – travail,Domicile – travail</td>\n",
       "      <td>Ceinture,Casque</td>\n",
       "      <td>Oui,Oui</td>\n",
       "      <td>None</td>\n",
       "      <td>Se déplaçant,Se déplaçant</td>\n",
       "      <td>None</td>\n",
       "    </tr>\n",
       "  </tbody>\n",
       "</table>\n",
       "</div>"
      ],
      "text/plain": [
       "  identifiant_de_l_accident identifiant_vehicule      place  \\\n",
       "0              201700033619              B01,A01    1,1,2,2   \n",
       "1              201700048262  A01,E01,C01,B01,D01  1,1,1,1,1   \n",
       "2              201700048288      D01,B01,A01,C01  1,1,1,2,1   \n",
       "3              201700048486              A01,B01      1,1,2   \n",
       "4              201700048639              Z01,A01        1,1   \n",
       "\n",
       "                                  categorie_d_usager  \\\n",
       "0            Conducteur,Conducteur,Passager,Passager   \n",
       "1  Conducteur,Conducteur,Conducteur,Conducteur,Co...   \n",
       "2  Conducteur,Conducteur,Conducteur,Passager,Cond...   \n",
       "3                     Conducteur,Conducteur,Passager   \n",
       "4                              Conducteur,Conducteur   \n",
       "\n",
       "                                  gravite  \\\n",
       "0             Blessé,Blessé,Blessé,Blessé   \n",
       "1  Indemne,Indemne,Blessé,Indemne,Indemne   \n",
       "2  Indemne,Indemne,Indemne,Blessé,Indemne   \n",
       "3                   Blessé,Indemne,Blessé   \n",
       "4                          Indemne,Blessé   \n",
       "\n",
       "                                           sexe        annee_de_naissance  \\\n",
       "0           Masculin,Masculin,Masculin,Masculin       1996,1939,1996,1931   \n",
       "1    Masculin,Masculin,Féminin,Féminin,Masculin  1952,1934,1979,1986,1978   \n",
       "2  Masculin,Masculin,Masculin,Masculin,Masculin  1982,1978,1990,2004,1978   \n",
       "3                    Masculin,Masculin,Masculin            1992,1990,1992   \n",
       "4                             Masculin,Masculin                 1992,1960   \n",
       "\n",
       "                                        motif_trajet  \\\n",
       "0  Promenade – loisirs,Promenade – loisirs,Promen...   \n",
       "1                                               None   \n",
       "2                                               None   \n",
       "3                                              Autre   \n",
       "4              Domicile – travail,Domicile – travail   \n",
       "\n",
       "               existence_equipement_de_securite  \\\n",
       "0           Ceinture,Ceinture,Ceinture,Ceinture   \n",
       "1  Ceinture,Ceinture,Ceinture,Ceinture,Ceinture   \n",
       "2  Ceinture,Ceinture,Ceinture,Ceinture,Ceinture   \n",
       "3                    Ceinture,Ceinture,Ceinture   \n",
       "4                               Ceinture,Casque   \n",
       "\n",
       "  utilisation_equipement_de_securite localisation_du_pieton  \\\n",
       "0                    Oui,Oui,Oui,Oui                   None   \n",
       "1                Oui,Oui,Oui,Oui,Oui                   None   \n",
       "2                Oui,Oui,Oui,Oui,Oui                   None   \n",
       "3                        Oui,Oui,Oui                   None   \n",
       "4                            Oui,Oui                   None   \n",
       "\n",
       "                                       action_pieton pieton_seul_ou_non  \n",
       "0  Se déplaçant,Se déplaçant,Se déplaçant,Se dépl...               None  \n",
       "1  Se déplaçant,Se déplaçant,Se déplaçant,Se dépl...               None  \n",
       "2  Se déplaçant,Se déplaçant,Se déplaçant,Se dépl...               None  \n",
       "3             Se déplaçant,Se déplaçant,Se déplaçant               None  \n",
       "4                          Se déplaçant,Se déplaçant               None  "
      ]
     },
     "execution_count": 5,
     "metadata": {},
     "output_type": "execute_result"
    }
   ],
   "source": [
    "df_usagers = get_df_from_table(engine, \"bronze\", \"usagers_raw\")\n",
    "df_usagers.head()"
   ]
  },
  {
   "cell_type": "code",
   "execution_count": 6,
   "id": "b4ba30b2",
   "metadata": {},
   "outputs": [
    {
     "name": "stdout",
     "output_type": "stream",
     "text": [
      "Nombre de lignes avant suppression des doublons : 1427733\n",
      "Nombre de lignes après suppression des doublons : 475911\n"
     ]
    },
    {
     "data": {
      "application/vnd.microsoft.datawrangler.viewer.v0+json": {
       "columns": [
        {
         "name": "index",
         "rawType": "int64",
         "type": "integer"
        },
        {
         "name": "identifiant_de_l_accident",
         "rawType": "object",
         "type": "string"
        },
        {
         "name": "identifiant_vehicule",
         "rawType": "object",
         "type": "string"
        },
        {
         "name": "place",
         "rawType": "object",
         "type": "string"
        },
        {
         "name": "categorie_d_usager",
         "rawType": "object",
         "type": "string"
        },
        {
         "name": "gravite",
         "rawType": "object",
         "type": "string"
        },
        {
         "name": "sexe",
         "rawType": "object",
         "type": "string"
        },
        {
         "name": "annee_de_naissance",
         "rawType": "object",
         "type": "string"
        },
        {
         "name": "motif_trajet",
         "rawType": "object",
         "type": "unknown"
        },
        {
         "name": "existence_equipement_de_securite",
         "rawType": "object",
         "type": "string"
        },
        {
         "name": "utilisation_equipement_de_securite",
         "rawType": "object",
         "type": "string"
        },
        {
         "name": "localisation_du_pieton",
         "rawType": "object",
         "type": "unknown"
        },
        {
         "name": "action_pieton",
         "rawType": "object",
         "type": "string"
        },
        {
         "name": "pieton_seul_ou_non",
         "rawType": "object",
         "type": "unknown"
        }
       ],
       "ref": "aa9af5d1-d718-4b27-b30e-821d0bf8431c",
       "rows": [
        [
         "0",
         "201700033619",
         "B01,A01",
         "1,1,2,2",
         "Conducteur,Conducteur,Passager,Passager",
         "Blessé,Blessé,Blessé,Blessé",
         "Masculin,Masculin,Masculin,Masculin",
         "1996,1939,1996,1931",
         "Promenade – loisirs,Promenade – loisirs,Promenade – loisirs",
         "Ceinture,Ceinture,Ceinture,Ceinture",
         "Oui,Oui,Oui,Oui",
         null,
         "Se déplaçant,Se déplaçant,Se déplaçant,Se déplaçant",
         null
        ],
        [
         "1",
         "201700048262",
         "A01,E01,C01,B01,D01",
         "1,1,1,1,1",
         "Conducteur,Conducteur,Conducteur,Conducteur,Conducteur",
         "Indemne,Indemne,Blessé,Indemne,Indemne",
         "Masculin,Masculin,Féminin,Féminin,Masculin",
         "1952,1934,1979,1986,1978",
         null,
         "Ceinture,Ceinture,Ceinture,Ceinture,Ceinture",
         "Oui,Oui,Oui,Oui,Oui",
         null,
         "Se déplaçant,Se déplaçant,Se déplaçant,Se déplaçant,Se déplaçant",
         null
        ],
        [
         "2",
         "201700048288",
         "D01,B01,A01,C01",
         "1,1,1,2,1",
         "Conducteur,Conducteur,Conducteur,Passager,Conducteur",
         "Indemne,Indemne,Indemne,Blessé,Indemne",
         "Masculin,Masculin,Masculin,Masculin,Masculin",
         "1982,1978,1990,2004,1978",
         null,
         "Ceinture,Ceinture,Ceinture,Ceinture,Ceinture",
         "Oui,Oui,Oui,Oui,Oui",
         null,
         "Se déplaçant,Se déplaçant,Se déplaçant,Se déplaçant,Se déplaçant",
         null
        ],
        [
         "3",
         "201700048486",
         "A01,B01",
         "1,1,2",
         "Conducteur,Conducteur,Passager",
         "Blessé,Indemne,Blessé",
         "Masculin,Masculin,Masculin",
         "1992,1990,1992",
         "Autre",
         "Ceinture,Ceinture,Ceinture",
         "Oui,Oui,Oui",
         null,
         "Se déplaçant,Se déplaçant,Se déplaçant",
         null
        ],
        [
         "4",
         "201700048639",
         "Z01,A01",
         "1,1",
         "Conducteur,Conducteur",
         "Indemne,Blessé",
         "Masculin,Masculin",
         "1992,1960",
         "Domicile – travail,Domicile – travail",
         "Ceinture,Casque",
         "Oui,Oui",
         null,
         "Se déplaçant,Se déplaçant",
         null
        ]
       ],
       "shape": {
        "columns": 13,
        "rows": 5
       }
      },
      "text/html": [
       "<div>\n",
       "<style scoped>\n",
       "    .dataframe tbody tr th:only-of-type {\n",
       "        vertical-align: middle;\n",
       "    }\n",
       "\n",
       "    .dataframe tbody tr th {\n",
       "        vertical-align: top;\n",
       "    }\n",
       "\n",
       "    .dataframe thead th {\n",
       "        text-align: right;\n",
       "    }\n",
       "</style>\n",
       "<table border=\"1\" class=\"dataframe\">\n",
       "  <thead>\n",
       "    <tr style=\"text-align: right;\">\n",
       "      <th></th>\n",
       "      <th>identifiant_de_l_accident</th>\n",
       "      <th>identifiant_vehicule</th>\n",
       "      <th>place</th>\n",
       "      <th>categorie_d_usager</th>\n",
       "      <th>gravite</th>\n",
       "      <th>sexe</th>\n",
       "      <th>annee_de_naissance</th>\n",
       "      <th>motif_trajet</th>\n",
       "      <th>existence_equipement_de_securite</th>\n",
       "      <th>utilisation_equipement_de_securite</th>\n",
       "      <th>localisation_du_pieton</th>\n",
       "      <th>action_pieton</th>\n",
       "      <th>pieton_seul_ou_non</th>\n",
       "    </tr>\n",
       "  </thead>\n",
       "  <tbody>\n",
       "    <tr>\n",
       "      <th>0</th>\n",
       "      <td>201700033619</td>\n",
       "      <td>B01,A01</td>\n",
       "      <td>1,1,2,2</td>\n",
       "      <td>Conducteur,Conducteur,Passager,Passager</td>\n",
       "      <td>Blessé,Blessé,Blessé,Blessé</td>\n",
       "      <td>Masculin,Masculin,Masculin,Masculin</td>\n",
       "      <td>1996,1939,1996,1931</td>\n",
       "      <td>Promenade – loisirs,Promenade – loisirs,Promen...</td>\n",
       "      <td>Ceinture,Ceinture,Ceinture,Ceinture</td>\n",
       "      <td>Oui,Oui,Oui,Oui</td>\n",
       "      <td>None</td>\n",
       "      <td>Se déplaçant,Se déplaçant,Se déplaçant,Se dépl...</td>\n",
       "      <td>None</td>\n",
       "    </tr>\n",
       "    <tr>\n",
       "      <th>1</th>\n",
       "      <td>201700048262</td>\n",
       "      <td>A01,E01,C01,B01,D01</td>\n",
       "      <td>1,1,1,1,1</td>\n",
       "      <td>Conducteur,Conducteur,Conducteur,Conducteur,Co...</td>\n",
       "      <td>Indemne,Indemne,Blessé,Indemne,Indemne</td>\n",
       "      <td>Masculin,Masculin,Féminin,Féminin,Masculin</td>\n",
       "      <td>1952,1934,1979,1986,1978</td>\n",
       "      <td>None</td>\n",
       "      <td>Ceinture,Ceinture,Ceinture,Ceinture,Ceinture</td>\n",
       "      <td>Oui,Oui,Oui,Oui,Oui</td>\n",
       "      <td>None</td>\n",
       "      <td>Se déplaçant,Se déplaçant,Se déplaçant,Se dépl...</td>\n",
       "      <td>None</td>\n",
       "    </tr>\n",
       "    <tr>\n",
       "      <th>2</th>\n",
       "      <td>201700048288</td>\n",
       "      <td>D01,B01,A01,C01</td>\n",
       "      <td>1,1,1,2,1</td>\n",
       "      <td>Conducteur,Conducteur,Conducteur,Passager,Cond...</td>\n",
       "      <td>Indemne,Indemne,Indemne,Blessé,Indemne</td>\n",
       "      <td>Masculin,Masculin,Masculin,Masculin,Masculin</td>\n",
       "      <td>1982,1978,1990,2004,1978</td>\n",
       "      <td>None</td>\n",
       "      <td>Ceinture,Ceinture,Ceinture,Ceinture,Ceinture</td>\n",
       "      <td>Oui,Oui,Oui,Oui,Oui</td>\n",
       "      <td>None</td>\n",
       "      <td>Se déplaçant,Se déplaçant,Se déplaçant,Se dépl...</td>\n",
       "      <td>None</td>\n",
       "    </tr>\n",
       "    <tr>\n",
       "      <th>3</th>\n",
       "      <td>201700048486</td>\n",
       "      <td>A01,B01</td>\n",
       "      <td>1,1,2</td>\n",
       "      <td>Conducteur,Conducteur,Passager</td>\n",
       "      <td>Blessé,Indemne,Blessé</td>\n",
       "      <td>Masculin,Masculin,Masculin</td>\n",
       "      <td>1992,1990,1992</td>\n",
       "      <td>Autre</td>\n",
       "      <td>Ceinture,Ceinture,Ceinture</td>\n",
       "      <td>Oui,Oui,Oui</td>\n",
       "      <td>None</td>\n",
       "      <td>Se déplaçant,Se déplaçant,Se déplaçant</td>\n",
       "      <td>None</td>\n",
       "    </tr>\n",
       "    <tr>\n",
       "      <th>4</th>\n",
       "      <td>201700048639</td>\n",
       "      <td>Z01,A01</td>\n",
       "      <td>1,1</td>\n",
       "      <td>Conducteur,Conducteur</td>\n",
       "      <td>Indemne,Blessé</td>\n",
       "      <td>Masculin,Masculin</td>\n",
       "      <td>1992,1960</td>\n",
       "      <td>Domicile – travail,Domicile – travail</td>\n",
       "      <td>Ceinture,Casque</td>\n",
       "      <td>Oui,Oui</td>\n",
       "      <td>None</td>\n",
       "      <td>Se déplaçant,Se déplaçant</td>\n",
       "      <td>None</td>\n",
       "    </tr>\n",
       "  </tbody>\n",
       "</table>\n",
       "</div>"
      ],
      "text/plain": [
       "  identifiant_de_l_accident identifiant_vehicule      place  \\\n",
       "0              201700033619              B01,A01    1,1,2,2   \n",
       "1              201700048262  A01,E01,C01,B01,D01  1,1,1,1,1   \n",
       "2              201700048288      D01,B01,A01,C01  1,1,1,2,1   \n",
       "3              201700048486              A01,B01      1,1,2   \n",
       "4              201700048639              Z01,A01        1,1   \n",
       "\n",
       "                                  categorie_d_usager  \\\n",
       "0            Conducteur,Conducteur,Passager,Passager   \n",
       "1  Conducteur,Conducteur,Conducteur,Conducteur,Co...   \n",
       "2  Conducteur,Conducteur,Conducteur,Passager,Cond...   \n",
       "3                     Conducteur,Conducteur,Passager   \n",
       "4                              Conducteur,Conducteur   \n",
       "\n",
       "                                  gravite  \\\n",
       "0             Blessé,Blessé,Blessé,Blessé   \n",
       "1  Indemne,Indemne,Blessé,Indemne,Indemne   \n",
       "2  Indemne,Indemne,Indemne,Blessé,Indemne   \n",
       "3                   Blessé,Indemne,Blessé   \n",
       "4                          Indemne,Blessé   \n",
       "\n",
       "                                           sexe        annee_de_naissance  \\\n",
       "0           Masculin,Masculin,Masculin,Masculin       1996,1939,1996,1931   \n",
       "1    Masculin,Masculin,Féminin,Féminin,Masculin  1952,1934,1979,1986,1978   \n",
       "2  Masculin,Masculin,Masculin,Masculin,Masculin  1982,1978,1990,2004,1978   \n",
       "3                    Masculin,Masculin,Masculin            1992,1990,1992   \n",
       "4                             Masculin,Masculin                 1992,1960   \n",
       "\n",
       "                                        motif_trajet  \\\n",
       "0  Promenade – loisirs,Promenade – loisirs,Promen...   \n",
       "1                                               None   \n",
       "2                                               None   \n",
       "3                                              Autre   \n",
       "4              Domicile – travail,Domicile – travail   \n",
       "\n",
       "               existence_equipement_de_securite  \\\n",
       "0           Ceinture,Ceinture,Ceinture,Ceinture   \n",
       "1  Ceinture,Ceinture,Ceinture,Ceinture,Ceinture   \n",
       "2  Ceinture,Ceinture,Ceinture,Ceinture,Ceinture   \n",
       "3                    Ceinture,Ceinture,Ceinture   \n",
       "4                               Ceinture,Casque   \n",
       "\n",
       "  utilisation_equipement_de_securite localisation_du_pieton  \\\n",
       "0                    Oui,Oui,Oui,Oui                   None   \n",
       "1                Oui,Oui,Oui,Oui,Oui                   None   \n",
       "2                Oui,Oui,Oui,Oui,Oui                   None   \n",
       "3                        Oui,Oui,Oui                   None   \n",
       "4                            Oui,Oui                   None   \n",
       "\n",
       "                                       action_pieton pieton_seul_ou_non  \n",
       "0  Se déplaçant,Se déplaçant,Se déplaçant,Se dépl...               None  \n",
       "1  Se déplaçant,Se déplaçant,Se déplaçant,Se dépl...               None  \n",
       "2  Se déplaçant,Se déplaçant,Se déplaçant,Se dépl...               None  \n",
       "3             Se déplaçant,Se déplaçant,Se déplaçant               None  \n",
       "4                          Se déplaçant,Se déplaçant               None  "
      ]
     },
     "execution_count": 6,
     "metadata": {},
     "output_type": "execute_result"
    }
   ],
   "source": [
    "# Supprimer les doublons\n",
    "print(f\"Nombre de lignes avant suppression des doublons : {df_usagers.shape[0]}\")\n",
    "df_usagers = df_usagers.drop_duplicates()\n",
    "print(f\"Nombre de lignes après suppression des doublons : {df_usagers.shape[0]}\")\n",
    "#remplacer les valeurs nulles\n",
    "remplacer_valeurs_nulles(df_usagers)\n",
    "#Nettoyage sémantique\n",
    "#Traiter valeurs spéciales (-1, 00, NULL chaîne).\n",
    "df_usagers =  traiter_valeurs_speciales(df_usagers)\n",
    "df_usagers.head()"
   ]
  },
  {
   "cell_type": "code",
   "execution_count": 7,
   "id": "b2af5a11",
   "metadata": {},
   "outputs": [],
   "source": [
    "#supprimer les colonnes avec missing values supérieures à 50%\n",
    "col_a_supprimer = ['localisation_du_pieton', 'pieton_seul_ou_non']\n",
    "df_usagers = supprimer_colonnes(df_usagers, col_a_supprimer)"
   ]
  },
  {
   "cell_type": "code",
   "execution_count": 8,
   "id": "94f0e544",
   "metadata": {},
   "outputs": [
    {
     "name": "stdout",
     "output_type": "stream",
     "text": [
      "\n",
      "apres harmonisation:\n",
      "    sexe  counts\n",
      "1  homme  332112\n",
      "0  femme  143799\n"
     ]
    }
   ],
   "source": [
    "#Harmonisation de la colonne 'sexe'\n",
    "# prend les 2 premiers caractères\n",
    "df_usagers['sexe'] = df_usagers['sexe'].astype(str).str[:2].str.lower().str.replace(' ', '')  \n",
    "df_usagers.groupby('sexe').size().reset_index(name='counts').sort_values(by='counts', ascending=False)\n",
    "mapping_sexe = {\n",
    "    'ma': 'homme',\n",
    "    'fé': 'femme'\n",
    "}\n",
    "harmonise_colonne_df(df_usagers,'sexe',mapping_sexe)\n",
    "print('\\napres harmonisation:')\n",
    "print(df_usagers.groupby('sexe').size().reset_index(name='counts').sort_values(by='counts', ascending=False))"
   ]
  },
  {
   "cell_type": "code",
   "execution_count": 9,
   "id": "ad322936",
   "metadata": {},
   "outputs": [
    {
     "data": {
      "application/vnd.microsoft.datawrangler.viewer.v0+json": {
       "columns": [
        {
         "name": "index",
         "rawType": "int64",
         "type": "integer"
        },
        {
         "name": "identifiant_de_l_accident",
         "rawType": "object",
         "type": "string"
        },
        {
         "name": "identifiant_vehicule",
         "rawType": "object",
         "type": "string"
        },
        {
         "name": "place",
         "rawType": "object",
         "type": "string"
        },
        {
         "name": "categorie_d_usager",
         "rawType": "object",
         "type": "string"
        },
        {
         "name": "gravite",
         "rawType": "object",
         "type": "string"
        },
        {
         "name": "sexe",
         "rawType": "object",
         "type": "string"
        },
        {
         "name": "annee_de_naissance",
         "rawType": "object",
         "type": "string"
        },
        {
         "name": "motif_trajet",
         "rawType": "object",
         "type": "string"
        },
        {
         "name": "existence_equipement_de_securite",
         "rawType": "object",
         "type": "string"
        },
        {
         "name": "utilisation_equipement_de_securite",
         "rawType": "object",
         "type": "string"
        },
        {
         "name": "action_pieton",
         "rawType": "object",
         "type": "string"
        }
       ],
       "ref": "81ebf93f-7054-4f2b-8a56-c499c334db03",
       "rows": [
        [
         "0",
         "201700033619",
         "B01,A01",
         "1,1,2,2",
         "Conducteur,Conducteur,Passager,Passager",
         "Blessé,Blessé,Blessé,Blessé",
         "homme",
         "1996,1939,1996,1931",
         "Promenade – loisirs,Promenade – loisirs,Promenade – loisirs",
         "Ceinture,Ceinture,Ceinture,Ceinture",
         "Oui,Oui,Oui,Oui",
         "Se déplaçant,Se déplaçant,Se déplaçant,Se déplaçant"
        ]
       ],
       "shape": {
        "columns": 11,
        "rows": 1
       }
      },
      "text/html": [
       "<div>\n",
       "<style scoped>\n",
       "    .dataframe tbody tr th:only-of-type {\n",
       "        vertical-align: middle;\n",
       "    }\n",
       "\n",
       "    .dataframe tbody tr th {\n",
       "        vertical-align: top;\n",
       "    }\n",
       "\n",
       "    .dataframe thead th {\n",
       "        text-align: right;\n",
       "    }\n",
       "</style>\n",
       "<table border=\"1\" class=\"dataframe\">\n",
       "  <thead>\n",
       "    <tr style=\"text-align: right;\">\n",
       "      <th></th>\n",
       "      <th>identifiant_de_l_accident</th>\n",
       "      <th>identifiant_vehicule</th>\n",
       "      <th>place</th>\n",
       "      <th>categorie_d_usager</th>\n",
       "      <th>gravite</th>\n",
       "      <th>sexe</th>\n",
       "      <th>annee_de_naissance</th>\n",
       "      <th>motif_trajet</th>\n",
       "      <th>existence_equipement_de_securite</th>\n",
       "      <th>utilisation_equipement_de_securite</th>\n",
       "      <th>action_pieton</th>\n",
       "    </tr>\n",
       "  </thead>\n",
       "  <tbody>\n",
       "    <tr>\n",
       "      <th>0</th>\n",
       "      <td>201700033619</td>\n",
       "      <td>B01,A01</td>\n",
       "      <td>1,1,2,2</td>\n",
       "      <td>Conducteur,Conducteur,Passager,Passager</td>\n",
       "      <td>Blessé,Blessé,Blessé,Blessé</td>\n",
       "      <td>homme</td>\n",
       "      <td>1996,1939,1996,1931</td>\n",
       "      <td>Promenade – loisirs,Promenade – loisirs,Promen...</td>\n",
       "      <td>Ceinture,Ceinture,Ceinture,Ceinture</td>\n",
       "      <td>Oui,Oui,Oui,Oui</td>\n",
       "      <td>Se déplaçant,Se déplaçant,Se déplaçant,Se dépl...</td>\n",
       "    </tr>\n",
       "  </tbody>\n",
       "</table>\n",
       "</div>"
      ],
      "text/plain": [
       "  identifiant_de_l_accident identifiant_vehicule    place  \\\n",
       "0              201700033619              B01,A01  1,1,2,2   \n",
       "\n",
       "                        categorie_d_usager                      gravite  \\\n",
       "0  Conducteur,Conducteur,Passager,Passager  Blessé,Blessé,Blessé,Blessé   \n",
       "\n",
       "    sexe   annee_de_naissance  \\\n",
       "0  homme  1996,1939,1996,1931   \n",
       "\n",
       "                                        motif_trajet  \\\n",
       "0  Promenade – loisirs,Promenade – loisirs,Promen...   \n",
       "\n",
       "      existence_equipement_de_securite utilisation_equipement_de_securite  \\\n",
       "0  Ceinture,Ceinture,Ceinture,Ceinture                    Oui,Oui,Oui,Oui   \n",
       "\n",
       "                                       action_pieton  \n",
       "0  Se déplaçant,Se déplaçant,Se déplaçant,Se dépl...  "
      ]
     },
     "execution_count": 9,
     "metadata": {},
     "output_type": "execute_result"
    }
   ],
   "source": [
    "df_usagers.head(1)"
   ]
  },
  {
   "cell_type": "code",
   "execution_count": 10,
   "id": "272d20cb",
   "metadata": {},
   "outputs": [],
   "source": [
    "# df_usagers.groupby('categorie_d_usager').size().reset_index(name='counts').sort_values(by='counts', ascending=False)\n",
    "# df_usagers.groupby('gravite').size().reset_index(name='counts').sort_values(by='counts', ascending=False)\n",
    "# df_usagers.groupby('gravite').size().reset_index(name='counts').sort_values(by='counts', ascending=False)\n",
    "# df_usagers.groupby('motif_trajet').size().reset_index(name='counts').sort_values(by='counts', ascending=False)\n",
    "# df_usagers.groupby('motif_trajet').size().reset_index(name='counts').sort_values(by='counts', ascending=False)\n",
    "# df_usagers.groupby('existence_equipement_de_securite').size().reset_index(name='counts').sort_values(by='counts', ascending=False)\n",
    "# df_usagers.groupby('utilisation_equipement_de_securite').size().reset_index(name='counts').sort_values(by='counts', ascending=False)\n",
    "# df_usagers.groupby('action_pieton').size().reset_index(name='counts').sort_values(by='counts', ascending=False)\n"
   ]
  },
  {
   "cell_type": "code",
   "execution_count": 11,
   "id": "b0b16896",
   "metadata": {},
   "outputs": [
    {
     "name": "stderr",
     "output_type": "stream",
     "text": [
      "INFO:__main__:Toutes les connexions à 'db_accident' ont été fermées (sauf la session actuelle).\n",
      "INFO:__main__:Engine SQLAlchemy libéré — plus aucune connexion active.\n"
     ]
    },
    {
     "name": "stdout",
     "output_type": "stream",
     "text": [
      "(3697, 'postgres', 'db_accident', 'idle', 'ROLLBACK')\n"
     ]
    }
   ],
   "source": [
    "#Fermeture des connexions actives à la base de données\n",
    "admin_engine = get_engine(ADMIN_DB_URL)\n",
    "show_open_connections(admin_engine, DB_NAME)\n",
    "close_all_connections(admin_engine, DB_NAME)\n",
    "show_open_connections(admin_engine, DB_NAME)\n",
    "\n"
   ]
  }
 ],
 "metadata": {
  "kernelspec": {
   "display_name": ".venv (3.12.3)",
   "language": "python",
   "name": "python3"
  },
  "language_info": {
   "codemirror_mode": {
    "name": "ipython",
    "version": 3
   },
   "file_extension": ".py",
   "mimetype": "text/x-python",
   "name": "python",
   "nbconvert_exporter": "python",
   "pygments_lexer": "ipython3",
   "version": "3.12.3"
  }
 },
 "nbformat": 4,
 "nbformat_minor": 5
}
