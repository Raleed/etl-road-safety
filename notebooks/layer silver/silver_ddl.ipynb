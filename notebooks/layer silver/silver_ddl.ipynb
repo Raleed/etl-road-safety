{
 "cells": [
  {
   "cell_type": "code",
   "execution_count": 1,
   "id": "51f97306",
   "metadata": {},
   "outputs": [],
   "source": [
    "%run ../functions_scripts/database_functions.ipynb\n",
    "%run ../functions_scripts/dataframe_cleaning_functions.ipynb"
   ]
  },
  {
   "cell_type": "code",
   "execution_count": 2,
   "id": "84b52591",
   "metadata": {},
   "outputs": [],
   "source": [
    "from pathlib import Path\n",
    "from typing import List, Optional\n",
    "from sqlalchemy import create_engine\n",
    "from sqlalchemy.engine import Engine\n",
    "from sqlalchemy import text\n",
    "from psycopg2.extras import execute_values\n",
    "from sqlalchemy_utils import database_exists, create_database\n",
    "import pandas as pd\n",
    "\n",
    "import os\n",
    "from dotenv import load_dotenv\n",
    "\n",
    "load_dotenv()\n",
    "\n",
    "RAW_DIR = Path(os.getenv(\"RAW_DIR\"))\n",
    "CLEAN_DIR = Path(os.getenv(\"CLEAN_DIR\"))\n",
    "ADMIN_DB_URL = os.getenv(\"ADMIN_DB_URL\")\n",
    "DB_URL = os.getenv(\"DB_URL\")\n",
    "\n"
   ]
  },
  {
   "cell_type": "code",
   "execution_count": 3,
   "id": "c6f4b4a6",
   "metadata": {},
   "outputs": [
    {
     "name": "stderr",
     "output_type": "stream",
     "text": [
      "INFO:__main__:Exécution du script SQL...\n",
      "INFO:__main__:Script SQL exécuté avec succès\n",
      "INFO:__main__:Connexion fermée et engine libéré.\n"
     ]
    }
   ],
   "source": [
    "script_silver_ddl = \"\"\"\n",
    "CREATE SCHEMA IF NOT EXISTS silver;\n",
    "\n",
    "CREATE TABLE IF NOT EXISTS silver.caracteristiques_clean (\n",
    "  identifiant_de_l_accident VARCHAR(64),\n",
    "  date_et_heure TIMESTAMP,\n",
    "  jour SMALLINT,\n",
    "  mois SMALLINT,\n",
    "  annee SMALLINT,\n",
    "  heure_minute TIME,\n",
    "  date DATE,\n",
    "  year_georef SMALLINT,\n",
    "  lumiere VARCHAR(60),\n",
    "  code_postal VARCHAR(20),\n",
    "  code_insee VARCHAR(20),\n",
    "  departement VARCHAR(6),\n",
    "  commune VARCHAR(100),\n",
    "  code_commune VARCHAR(20),\n",
    "  code_officiel_commune VARCHAR(20),\n",
    "  nom_officiel_commune VARCHAR(255),\n",
    "  nom_officiel_commune_arrondissement_municipal VARCHAR(255),\n",
    "  code_officiel_departement VARCHAR(20),\n",
    "  nom_officiel_departement VARCHAR(255),\n",
    "  code_officiel_region VARCHAR(20),\n",
    "  nom_officiel_region VARCHAR(255),\n",
    "  code_officiel_epci VARCHAR(20),\n",
    "  nom_officiel_epci VARCHAR(255),\n",
    "  localisation VARCHAR(20),\n",
    "  intersection VARCHAR(60),\n",
    "  conditions_atmospheriques VARCHAR(50),\n",
    "  collision VARCHAR(255),\n",
    "  adresse VARCHAR(512),\n",
    "  gps VARCHAR(100),\n",
    "  latitude DOUBLE PRECISION,\n",
    "  longitude DOUBLE PRECISION,\n",
    "  coordonnees VARCHAR(255),\n",
    "  numero VARCHAR(64),\n",
    "  insert_ts TIMESTAMP DEFAULT now(),\n",
    "  source VARCHAR(255)\n",
    ");\n",
    "\n",
    "CREATE TABLE IF NOT EXISTS silver.lieux_clean(\n",
    "  identifiant_de_l_accident VARCHAR(64),\n",
    "  categorie_route SMALLINT,\n",
    "  voie VARCHAR(128),\n",
    "  v1 VARCHAR(32),\n",
    "  v2 VARCHAR(32),\n",
    "  circulation SMALLINT,\n",
    "  nombre_de_voies SMALLINT,\n",
    "  voie_reservee SMALLINT,\n",
    "  profil SMALLINT,\n",
    "  pr VARCHAR(64),\n",
    "  pr1 INT,\n",
    "  plan SMALLINT,\n",
    "  largeur_terre_plein_central DOUBLE PRECISION,\n",
    "  largeur_de_la_chaussee DOUBLE PRECISION,\n",
    "  surface SMALLINT,\n",
    "  infrastructure SMALLINT,\n",
    "  situation SMALLINT,\n",
    "  env1 SMALLINT,\n",
    "  insert_ts TIMESTAMP DEFAULT now(),\n",
    "  source VARCHAR(255)\n",
    ");\n",
    "\n",
    "CREATE TABLE IF NOT EXISTS silver.vehicules_clean (\n",
    "  identifiant_de_l_accident VARCHAR(64),\n",
    "  identifiant_vehicule VARCHAR(64),\n",
    "  sens SMALLINT,\n",
    "  categorie_vehicule SMALLINT,\n",
    "  obstacle_fixe_heurte SMALLINT,\n",
    "  obstacle_mobile_heurte SMALLINT,\n",
    "  point_de_choc SMALLINT,\n",
    "  manoeuvre SMALLINT,\n",
    "  nombre_d_occupants SMALLINT,\n",
    "  insert_ts TIMESTAMP DEFAULT now(),\n",
    "  source VARCHAR(255)\n",
    ");\n",
    "\n",
    "CREATE TABLE IF NOT EXISTS silver.usagers_clean (\n",
    "  identifiant_de_l_accident VARCHAR(64),\n",
    "  identifiant_vehicule VARCHAR(64),\n",
    "  place VARCHAR(128),\n",
    "  categorie_d_usager SMALLINT,\n",
    "  gravite SMALLINT,\n",
    "  sexe SMALLINT,\n",
    "  annee_de_naissance SMALLINT,\n",
    "  motif_trajet SMALLINT,\n",
    "  existence_equipement_de_securite VARCHAR(8),\n",
    "  utilisation_equipement_de_securite SMALLINT,\n",
    "  localisation_du_pieton SMALLINT,\n",
    "  action_pieton SMALLINT,\n",
    "  pieton_seul_ou_non SMALLINT,\n",
    "  insert_ts TIMESTAMP DEFAULT now(),\n",
    "  source VARCHAR(255)\n",
    ");\n",
    "\n",
    "\"\"\"\n",
    "engine = get_engine(DB_URL) \n",
    "execute_script(engine, script_silver_ddl)\n",
    "\n",
    "\n"
   ]
  },
  {
   "cell_type": "code",
   "execution_count": 4,
   "id": "974ae0b0",
   "metadata": {},
   "outputs": [
    {
     "name": "stderr",
     "output_type": "stream",
     "text": [
      "INFO:__main__:Toutes les connexions à 'db_accident' ont été fermées (sauf la session actuelle).\n",
      "INFO:__main__:Engine SQLAlchemy libéré — plus aucune connexion active.\n"
     ]
    },
    {
     "name": "stdout",
     "output_type": "stream",
     "text": [
      "(170, 'postgres', 'db_accident', 'idle', 'SET search_path = public,public,\"$user\"')\n",
      "(171, 'postgres', 'db_accident', 'idle', 'select c.oid,pg_catalog.pg_total_relation_size(c.oid) as total_rel_size,pg_catalog.pg_relation_size(c.oid) as rel_size\\nFROM pg_class c\\nWHERE c.relnamespace=$1')\n"
     ]
    }
   ],
   "source": [
    "#Fermeture des connexions actives à la base de données\n",
    "admin_engine = get_engine(ADMIN_DB_URL)\n",
    "show_open_connections(admin_engine, DB_NAME)\n",
    "close_all_connections(admin_engine, DB_NAME)\n",
    "show_open_connections(admin_engine, DB_NAME)\n"
   ]
  }
 ],
 "metadata": {
  "kernelspec": {
   "display_name": ".venv (3.12.3)",
   "language": "python",
   "name": "python3"
  },
  "language_info": {
   "codemirror_mode": {
    "name": "ipython",
    "version": 3
   },
   "file_extension": ".py",
   "mimetype": "text/x-python",
   "name": "python",
   "nbconvert_exporter": "python",
   "pygments_lexer": "ipython3",
   "version": "3.12.3"
  }
 },
 "nbformat": 4,
 "nbformat_minor": 5
}
