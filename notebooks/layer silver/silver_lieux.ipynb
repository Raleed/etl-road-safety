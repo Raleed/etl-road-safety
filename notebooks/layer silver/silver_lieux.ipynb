{
 "cells": [
  {
   "cell_type": "code",
   "execution_count": 2,
   "id": "51f97306",
   "metadata": {},
   "outputs": [],
   "source": [
    "%run ../functions_scripts/database_functions.ipynb\n",
    "%run ../functions_scripts/dataframe_cleaning_functions.ipynb"
   ]
  },
  {
   "cell_type": "code",
   "execution_count": 3,
   "id": "84b52591",
   "metadata": {},
   "outputs": [],
   "source": [
    "\n",
    "from pathlib import Path\n",
    "from typing import List, Optional\n",
    "from sqlalchemy import create_engine\n",
    "from sqlalchemy.engine import Engine\n",
    "from sqlalchemy import text\n",
    "from psycopg2.extras import execute_values\n",
    "from sqlalchemy_utils import database_exists, create_database\n",
    "import pandas as pd\n",
    "\n",
    "import os\n",
    "from dotenv import load_dotenv\n",
    "\n",
    "load_dotenv()\n",
    "\n",
    "RAW_DIR = Path(os.getenv(\"RAW_DIR\"))\n",
    "CLEAN_DIR = Path(os.getenv(\"CLEAN_DIR\"))\n",
    "ADMIN_DB_URL = os.getenv(\"ADMIN_DB_URL\")\n",
    "DB_URL = os.getenv(\"DB_URL\")\n",
    "\n"
   ]
  },
  {
   "cell_type": "markdown",
   "id": "a6af584a",
   "metadata": {},
   "source": [
    "# 🧹 Nettoyage de la table Lieux "
   ]
  },
  {
   "cell_type": "code",
   "execution_count": 4,
   "id": "1dc22298",
   "metadata": {},
   "outputs": [],
   "source": [
    "# Etablir connection avec la base de données\n",
    "engine = get_engine(DB_URL) "
   ]
  },
  {
   "cell_type": "code",
   "execution_count": 5,
   "id": "5a825a4e",
   "metadata": {},
   "outputs": [
    {
     "name": "stdout",
     "output_type": "stream",
     "text": [
      "Nombre de lignes dans bronze.lieux_raw : 1427733\n",
      "\n",
      "\n"
     ]
    }
   ],
   "source": [
    "#Afficher le nombre de lignes dans la table bronze.lieux_raw\n",
    "\n",
    "query = \"SELECT COUNT(*) FROM bronze.lieux_raw\"\n",
    "count= get_single_value(engine, query)\n",
    "print(f\"Nombre de lignes dans bronze.lieux_raw : {count}\")\n",
    "print('\\n')\n",
    "#Récupérer les données dans Dataframe df_lieux\n",
    "df_lieux = get_df_from_table(engine, \"bronze\", \"lieux_raw\")"
   ]
  },
  {
   "cell_type": "code",
   "execution_count": 6,
   "id": "166f5c09",
   "metadata": {},
   "outputs": [
    {
     "name": "stdout",
     "output_type": "stream",
     "text": [
      "Nombre de lignes avant suppression des doublons : 1427733\n",
      "Nombre de lignes après suppression des doublons : 475911\n"
     ]
    },
    {
     "data": {
      "application/vnd.microsoft.datawrangler.viewer.v0+json": {
       "columns": [
        {
         "name": "index",
         "rawType": "int64",
         "type": "integer"
        },
        {
         "name": "identifiant_de_l_accident",
         "rawType": "object",
         "type": "string"
        },
        {
         "name": "categorie_route",
         "rawType": "object",
         "type": "string"
        },
        {
         "name": "voie",
         "rawType": "object",
         "type": "string"
        },
        {
         "name": "v1",
         "rawType": "object",
         "type": "unknown"
        },
        {
         "name": "v2",
         "rawType": "object",
         "type": "unknown"
        },
        {
         "name": "circulation",
         "rawType": "object",
         "type": "string"
        },
        {
         "name": "nombre_de_voies",
         "rawType": "object",
         "type": "string"
        },
        {
         "name": "voie_reservee",
         "rawType": "object",
         "type": "unknown"
        },
        {
         "name": "profil",
         "rawType": "object",
         "type": "string"
        },
        {
         "name": "pr",
         "rawType": "object",
         "type": "unknown"
        },
        {
         "name": "pr1",
         "rawType": "object",
         "type": "unknown"
        },
        {
         "name": "plan",
         "rawType": "object",
         "type": "string"
        },
        {
         "name": "largeur_terre_plein_central",
         "rawType": "object",
         "type": "string"
        },
        {
         "name": "largeur_de_la_chaussee",
         "rawType": "object",
         "type": "string"
        },
        {
         "name": "surface",
         "rawType": "object",
         "type": "string"
        },
        {
         "name": "infrastructure",
         "rawType": "object",
         "type": "unknown"
        },
        {
         "name": "situation",
         "rawType": "object",
         "type": "unknown"
        },
        {
         "name": "env1",
         "rawType": "object",
         "type": "unknown"
        }
       ],
       "ref": "cc73cade-dda2-450d-9429-7f11c440feb4",
       "rows": [
        [
         "0",
         "201700033619",
         "Voie Communale",
         "0",
         null,
         null,
         "A sens unique",
         "2",
         null,
         "Plat",
         null,
         null,
         "En courbe à gauche",
         "0",
         "80",
         "normale",
         "Pont - autopont",
         null,
         null
        ],
        [
         "1",
         "201700048262",
         "Autoroute",
         "1",
         null,
         null,
         "A sens unique",
         "2",
         null,
         "Plat",
         "4",
         "500",
         "Partie rectiligne",
         "0",
         "70",
         "normale",
         null,
         "Sur chaussée",
         "99"
        ],
        [
         "2",
         "201700048288",
         "Autoroute",
         "86",
         null,
         null,
         "A sens unique",
         "2",
         null,
         "Plat",
         "8",
         "0",
         "Partie rectiligne",
         "0",
         "0",
         "mouillée",
         null,
         "Sur chaussée",
         "99"
        ],
        [
         "3",
         "201700048486",
         "Autoroute",
         "12",
         null,
         null,
         "A sens unique",
         "2",
         null,
         "Plat",
         "5",
         "600",
         "Partie rectiligne",
         "0",
         "0",
         "normale",
         "Souterrain - tunnel",
         "Sur chaussée",
         null
        ],
        [
         "4",
         "201700048639",
         "Route Nationale",
         "118",
         null,
         null,
         "A sens unique",
         "2",
         null,
         "Plat",
         "5",
         "350",
         "Partie rectiligne",
         "15",
         "70",
         "normale",
         null,
         "Sur chaussée",
         "99"
        ]
       ],
       "shape": {
        "columns": 18,
        "rows": 5
       }
      },
      "text/html": [
       "<div>\n",
       "<style scoped>\n",
       "    .dataframe tbody tr th:only-of-type {\n",
       "        vertical-align: middle;\n",
       "    }\n",
       "\n",
       "    .dataframe tbody tr th {\n",
       "        vertical-align: top;\n",
       "    }\n",
       "\n",
       "    .dataframe thead th {\n",
       "        text-align: right;\n",
       "    }\n",
       "</style>\n",
       "<table border=\"1\" class=\"dataframe\">\n",
       "  <thead>\n",
       "    <tr style=\"text-align: right;\">\n",
       "      <th></th>\n",
       "      <th>identifiant_de_l_accident</th>\n",
       "      <th>categorie_route</th>\n",
       "      <th>voie</th>\n",
       "      <th>v1</th>\n",
       "      <th>v2</th>\n",
       "      <th>circulation</th>\n",
       "      <th>nombre_de_voies</th>\n",
       "      <th>voie_reservee</th>\n",
       "      <th>profil</th>\n",
       "      <th>pr</th>\n",
       "      <th>pr1</th>\n",
       "      <th>plan</th>\n",
       "      <th>largeur_terre_plein_central</th>\n",
       "      <th>largeur_de_la_chaussee</th>\n",
       "      <th>surface</th>\n",
       "      <th>infrastructure</th>\n",
       "      <th>situation</th>\n",
       "      <th>env1</th>\n",
       "    </tr>\n",
       "  </thead>\n",
       "  <tbody>\n",
       "    <tr>\n",
       "      <th>0</th>\n",
       "      <td>201700033619</td>\n",
       "      <td>Voie Communale</td>\n",
       "      <td>0</td>\n",
       "      <td>None</td>\n",
       "      <td>None</td>\n",
       "      <td>A sens unique</td>\n",
       "      <td>2</td>\n",
       "      <td>None</td>\n",
       "      <td>Plat</td>\n",
       "      <td>None</td>\n",
       "      <td>None</td>\n",
       "      <td>En courbe à gauche</td>\n",
       "      <td>0</td>\n",
       "      <td>80</td>\n",
       "      <td>normale</td>\n",
       "      <td>Pont - autopont</td>\n",
       "      <td>None</td>\n",
       "      <td>NaN</td>\n",
       "    </tr>\n",
       "    <tr>\n",
       "      <th>1</th>\n",
       "      <td>201700048262</td>\n",
       "      <td>Autoroute</td>\n",
       "      <td>1</td>\n",
       "      <td>None</td>\n",
       "      <td>None</td>\n",
       "      <td>A sens unique</td>\n",
       "      <td>2</td>\n",
       "      <td>None</td>\n",
       "      <td>Plat</td>\n",
       "      <td>4</td>\n",
       "      <td>500</td>\n",
       "      <td>Partie rectiligne</td>\n",
       "      <td>0</td>\n",
       "      <td>70</td>\n",
       "      <td>normale</td>\n",
       "      <td>None</td>\n",
       "      <td>Sur chaussée</td>\n",
       "      <td>99</td>\n",
       "    </tr>\n",
       "    <tr>\n",
       "      <th>2</th>\n",
       "      <td>201700048288</td>\n",
       "      <td>Autoroute</td>\n",
       "      <td>86</td>\n",
       "      <td>None</td>\n",
       "      <td>None</td>\n",
       "      <td>A sens unique</td>\n",
       "      <td>2</td>\n",
       "      <td>None</td>\n",
       "      <td>Plat</td>\n",
       "      <td>8</td>\n",
       "      <td>0</td>\n",
       "      <td>Partie rectiligne</td>\n",
       "      <td>0</td>\n",
       "      <td>0</td>\n",
       "      <td>mouillée</td>\n",
       "      <td>None</td>\n",
       "      <td>Sur chaussée</td>\n",
       "      <td>99</td>\n",
       "    </tr>\n",
       "    <tr>\n",
       "      <th>3</th>\n",
       "      <td>201700048486</td>\n",
       "      <td>Autoroute</td>\n",
       "      <td>12</td>\n",
       "      <td>None</td>\n",
       "      <td>None</td>\n",
       "      <td>A sens unique</td>\n",
       "      <td>2</td>\n",
       "      <td>None</td>\n",
       "      <td>Plat</td>\n",
       "      <td>5</td>\n",
       "      <td>600</td>\n",
       "      <td>Partie rectiligne</td>\n",
       "      <td>0</td>\n",
       "      <td>0</td>\n",
       "      <td>normale</td>\n",
       "      <td>Souterrain - tunnel</td>\n",
       "      <td>Sur chaussée</td>\n",
       "      <td>NaN</td>\n",
       "    </tr>\n",
       "    <tr>\n",
       "      <th>4</th>\n",
       "      <td>201700048639</td>\n",
       "      <td>Route Nationale</td>\n",
       "      <td>118</td>\n",
       "      <td>None</td>\n",
       "      <td>None</td>\n",
       "      <td>A sens unique</td>\n",
       "      <td>2</td>\n",
       "      <td>None</td>\n",
       "      <td>Plat</td>\n",
       "      <td>5</td>\n",
       "      <td>350</td>\n",
       "      <td>Partie rectiligne</td>\n",
       "      <td>15</td>\n",
       "      <td>70</td>\n",
       "      <td>normale</td>\n",
       "      <td>None</td>\n",
       "      <td>Sur chaussée</td>\n",
       "      <td>99</td>\n",
       "    </tr>\n",
       "  </tbody>\n",
       "</table>\n",
       "</div>"
      ],
      "text/plain": [
       "  identifiant_de_l_accident  categorie_route voie    v1    v2    circulation  \\\n",
       "0              201700033619   Voie Communale    0  None  None  A sens unique   \n",
       "1              201700048262        Autoroute    1  None  None  A sens unique   \n",
       "2              201700048288        Autoroute   86  None  None  A sens unique   \n",
       "3              201700048486        Autoroute   12  None  None  A sens unique   \n",
       "4              201700048639  Route Nationale  118  None  None  A sens unique   \n",
       "\n",
       "  nombre_de_voies voie_reservee profil    pr   pr1                plan  \\\n",
       "0               2          None   Plat  None  None  En courbe à gauche   \n",
       "1               2          None   Plat     4   500   Partie rectiligne   \n",
       "2               2          None   Plat     8     0   Partie rectiligne   \n",
       "3               2          None   Plat     5   600   Partie rectiligne   \n",
       "4               2          None   Plat     5   350   Partie rectiligne   \n",
       "\n",
       "  largeur_terre_plein_central largeur_de_la_chaussee   surface  \\\n",
       "0                           0                     80   normale   \n",
       "1                           0                     70   normale   \n",
       "2                           0                      0  mouillée   \n",
       "3                           0                      0   normale   \n",
       "4                          15                     70   normale   \n",
       "\n",
       "        infrastructure     situation env1  \n",
       "0      Pont - autopont          None  NaN  \n",
       "1                 None  Sur chaussée   99  \n",
       "2                 None  Sur chaussée   99  \n",
       "3  Souterrain - tunnel  Sur chaussée  NaN  \n",
       "4                 None  Sur chaussée   99  "
      ]
     },
     "execution_count": 6,
     "metadata": {},
     "output_type": "execute_result"
    }
   ],
   "source": [
    "# Supprimer les doublons\n",
    "print(f\"Nombre de lignes avant suppression des doublons : {df_lieux.shape[0]}\")\n",
    "df_lieux = df_lieux.drop_duplicates()\n",
    "print(f\"Nombre de lignes après suppression des doublons : {df_lieux.shape[0]}\")\n",
    "#remplacer les valeurs nulles\n",
    "remplacer_valeurs_nulles(df_lieux)\n",
    "#Nettoyage sémantique \n",
    "#Traiter valeurs spéciales (-1, 00, NULL chaîne).\n",
    "df_lieux =  traiter_valeurs_speciales(df_lieux)\n",
    "df_lieux.head()"
   ]
  },
  {
   "cell_type": "code",
   "execution_count": 7,
   "id": "f080dd8b",
   "metadata": {},
   "outputs": [],
   "source": [
    "#traiter valeur nulle de df_lieux\n",
    "df_lieux = remplacer_non_renseigne(df_lieux)\n",
    "#traiter valeur invalide de df_lieux\n",
    "df_lieux = traiter_valeurs_speciales(df_lieux)"
   ]
  },
  {
   "cell_type": "code",
   "execution_count": 8,
   "id": "40b2bf47",
   "metadata": {},
   "outputs": [
    {
     "name": "stdout",
     "output_type": "stream",
     "text": [
      "   nombre_de_voies   count\n",
      "0                1   58093\n",
      "1               10     431\n",
      "2               11      83\n",
      "3               12      57\n",
      "4               13      11\n",
      "5                2  267456\n",
      "6                3   36455\n",
      "7                4   46970\n",
      "8                5    5242\n",
      "9                6    9857\n",
      "10               7     738\n",
      "11               8    2239\n",
      "12               9     251\n",
      "13   Non renseigné   45570\n",
      "type de la colonne nombre_de_voies avant transformation : object\n",
      "type de la colonne nombre_de_voies après transformation : int64\n"
     ]
    },
    {
     "data": {
      "application/vnd.microsoft.datawrangler.viewer.v0+json": {
       "columns": [
        {
         "name": "index",
         "rawType": "int64",
         "type": "integer"
        },
        {
         "name": "nombre_de_voies",
         "rawType": "int64",
         "type": "integer"
        },
        {
         "name": "count",
         "rawType": "int64",
         "type": "integer"
        }
       ],
       "ref": "25bdda8b-6b8b-4baf-8fc4-81e230e6c7a2",
       "rows": [
        [
         "0",
         "0",
         "48028"
        ],
        [
         "1",
         "1",
         "58093"
        ],
        [
         "2",
         "2",
         "267456"
        ],
        [
         "3",
         "3",
         "36455"
        ],
        [
         "4",
         "4",
         "46970"
        ],
        [
         "5",
         "5",
         "5242"
        ],
        [
         "6",
         "6",
         "9857"
        ],
        [
         "7",
         "7",
         "738"
        ],
        [
         "8",
         "8",
         "2239"
        ],
        [
         "9",
         "9",
         "251"
        ],
        [
         "10",
         "10",
         "431"
        ],
        [
         "11",
         "11",
         "83"
        ],
        [
         "12",
         "12",
         "57"
        ],
        [
         "13",
         "13",
         "11"
        ]
       ],
       "shape": {
        "columns": 2,
        "rows": 14
       }
      },
      "text/html": [
       "<div>\n",
       "<style scoped>\n",
       "    .dataframe tbody tr th:only-of-type {\n",
       "        vertical-align: middle;\n",
       "    }\n",
       "\n",
       "    .dataframe tbody tr th {\n",
       "        vertical-align: top;\n",
       "    }\n",
       "\n",
       "    .dataframe thead th {\n",
       "        text-align: right;\n",
       "    }\n",
       "</style>\n",
       "<table border=\"1\" class=\"dataframe\">\n",
       "  <thead>\n",
       "    <tr style=\"text-align: right;\">\n",
       "      <th></th>\n",
       "      <th>nombre_de_voies</th>\n",
       "      <th>count</th>\n",
       "    </tr>\n",
       "  </thead>\n",
       "  <tbody>\n",
       "    <tr>\n",
       "      <th>0</th>\n",
       "      <td>0</td>\n",
       "      <td>48028</td>\n",
       "    </tr>\n",
       "    <tr>\n",
       "      <th>1</th>\n",
       "      <td>1</td>\n",
       "      <td>58093</td>\n",
       "    </tr>\n",
       "    <tr>\n",
       "      <th>2</th>\n",
       "      <td>2</td>\n",
       "      <td>267456</td>\n",
       "    </tr>\n",
       "    <tr>\n",
       "      <th>3</th>\n",
       "      <td>3</td>\n",
       "      <td>36455</td>\n",
       "    </tr>\n",
       "    <tr>\n",
       "      <th>4</th>\n",
       "      <td>4</td>\n",
       "      <td>46970</td>\n",
       "    </tr>\n",
       "    <tr>\n",
       "      <th>5</th>\n",
       "      <td>5</td>\n",
       "      <td>5242</td>\n",
       "    </tr>\n",
       "    <tr>\n",
       "      <th>6</th>\n",
       "      <td>6</td>\n",
       "      <td>9857</td>\n",
       "    </tr>\n",
       "    <tr>\n",
       "      <th>7</th>\n",
       "      <td>7</td>\n",
       "      <td>738</td>\n",
       "    </tr>\n",
       "    <tr>\n",
       "      <th>8</th>\n",
       "      <td>8</td>\n",
       "      <td>2239</td>\n",
       "    </tr>\n",
       "    <tr>\n",
       "      <th>9</th>\n",
       "      <td>9</td>\n",
       "      <td>251</td>\n",
       "    </tr>\n",
       "    <tr>\n",
       "      <th>10</th>\n",
       "      <td>10</td>\n",
       "      <td>431</td>\n",
       "    </tr>\n",
       "    <tr>\n",
       "      <th>11</th>\n",
       "      <td>11</td>\n",
       "      <td>83</td>\n",
       "    </tr>\n",
       "    <tr>\n",
       "      <th>12</th>\n",
       "      <td>12</td>\n",
       "      <td>57</td>\n",
       "    </tr>\n",
       "    <tr>\n",
       "      <th>13</th>\n",
       "      <td>13</td>\n",
       "      <td>11</td>\n",
       "    </tr>\n",
       "  </tbody>\n",
       "</table>\n",
       "</div>"
      ],
      "text/plain": [
       "    nombre_de_voies   count\n",
       "0                 0   48028\n",
       "1                 1   58093\n",
       "2                 2  267456\n",
       "3                 3   36455\n",
       "4                 4   46970\n",
       "5                 5    5242\n",
       "6                 6    9857\n",
       "7                 7     738\n",
       "8                 8    2239\n",
       "9                 9     251\n",
       "10               10     431\n",
       "11               11      83\n",
       "12               12      57\n",
       "13               13      11"
      ]
     },
     "execution_count": 8,
     "metadata": {},
     "output_type": "execute_result"
    }
   ],
   "source": [
    "# nombre disctincts de valeurs pour la colonne nombre de voies\n",
    "print(df_lieux['nombre_de_voies'].groupby(df_lieux['nombre_de_voies']).size().to_frame('count').reset_index())\n",
    "print(\"type de la colonne nombre_de_voies avant transformation :\", df_lieux['nombre_de_voies'].dtype)\n",
    "\n",
    "df_lieux['nombre_de_voies'] = (\n",
    "    pd.to_numeric(df_lieux['nombre_de_voies'], errors='coerce')\n",
    "    .fillna(0)\n",
    "    .astype(int)\n",
    ")\n",
    "print(\"type de la colonne nombre_de_voies après transformation :\", df_lieux['nombre_de_voies'].dtype)\n",
    "df_lieux['nombre_de_voies'].groupby(df_lieux['nombre_de_voies']).size().to_frame('count').reset_index()"
   ]
  },
  {
   "cell_type": "code",
   "execution_count": 9,
   "id": "5d00fa74",
   "metadata": {},
   "outputs": [
    {
     "name": "stdout",
     "output_type": "stream",
     "text": [
      "                                     categorie_route  counts\n",
      "6                                     Voie Communale  230977\n",
      "4                               Route Départementale  161026\n",
      "1                                          Autoroute   41951\n",
      "5                                    Route Nationale   30360\n",
      "7                                              autre    5800\n",
      "3  Parc de stationnement ouvert à la circulation ...    3334\n",
      "0                                                  7    1692\n",
      "2                                 Hors réseau public     771\n",
      "\n",
      "apres harmonisation:\n",
      "                                     categorie_route  counts\n",
      "6                                     Voie Communale  230977\n",
      "4                               Route Départementale  161026\n",
      "0                                          Autoroute   41951\n",
      "5                                    Route Nationale   30360\n",
      "1                                              Autre    7492\n",
      "3  Parc de stationnement ouvert à la circulation ...    3334\n",
      "2                                 Hors réseau public     771\n"
     ]
    }
   ],
   "source": [
    "#harmoniser la colonne categorie_route\n",
    "#Codes/Libellés : aligner (ex. Catégorie route : gérer 7 vs texte via table de correspondance ONISR).\n",
    "\n",
    "print(df_lieux.groupby('categorie_route').size().reset_index(name='counts').sort_values(by='counts', ascending=False))\n",
    "df_lieux.groupby('categorie_route').size().reset_index(name='counts').sort_values(by='counts', ascending=False)\n",
    "mapping_categorie = {\n",
    "'1': 'Autoroute', \n",
    "'2': 'Route Nationale',\n",
    "'3': 'Route Départementale',\n",
    "'4': 'Voie Communale',\n",
    "'5': 'Hors réseau public',\n",
    "'6': 'Parc de stationnement ouvert à la circulation publique',\n",
    "'9': 'Autre',\n",
    "'Autoroute': 'Autoroute', \n",
    "'Route Nationale': 'Route Nationale',\n",
    "'Route Départementale': 'Route Départementale',\n",
    "'Voie Communale': 'Voie Communale',\n",
    "'Hors réseau public': 'Hors réseau public',\n",
    "'Parc de stationnement ouvert à la circulation publique': 'Parc de stationnement ouvert à la circulation publique',\n",
    "'Autre': 'Autre'\n",
    "}\n",
    "df_lieux = harmonise_colonne_df(df_lieux,'categorie_route',mapping_categorie, 'Autre')\n",
    "print('\\napres harmonisation:')\n",
    "print(df_lieux.groupby('categorie_route').size().reset_index(name='counts').sort_values(by='counts', ascending=False))\n"
   ]
  },
  {
   "cell_type": "code",
   "execution_count": 10,
   "id": "7abfe3fa",
   "metadata": {},
   "outputs": [
    {
     "name": "stderr",
     "output_type": "stream",
     "text": [
      "INFO:__main__:Toutes les connexions à 'db_accident' ont été fermées (sauf la session actuelle).\n",
      "INFO:__main__:Engine SQLAlchemy libéré — plus aucune connexion active.\n"
     ]
    },
    {
     "name": "stdout",
     "output_type": "stream",
     "text": [
      "(3686, 'postgres', 'db_accident', 'idle', 'ROLLBACK')\n"
     ]
    }
   ],
   "source": [
    "#Fermeture des connexions actives à la base de données\n",
    "admin_engine = get_engine(ADMIN_DB_URL)\n",
    "show_open_connections(admin_engine, DB_NAME)\n",
    "close_all_connections(admin_engine, DB_NAME)\n",
    "show_open_connections(admin_engine, DB_NAME)\n"
   ]
  }
 ],
 "metadata": {
  "kernelspec": {
   "display_name": ".venv (3.12.3)",
   "language": "python",
   "name": "python3"
  },
  "language_info": {
   "codemirror_mode": {
    "name": "ipython",
    "version": 3
   },
   "file_extension": ".py",
   "mimetype": "text/x-python",
   "name": "python",
   "nbconvert_exporter": "python",
   "pygments_lexer": "ipython3",
   "version": "3.12.3"
  }
 },
 "nbformat": 4,
 "nbformat_minor": 5
}
